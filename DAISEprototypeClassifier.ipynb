{
  "nbformat": 4,
  "nbformat_minor": 0,
  "metadata": {
    "colab": {
      "provenance": []
    },
    "kernelspec": {
      "name": "python3",
      "display_name": "Python 3"
    },
    "language_info": {
      "name": "python"
    }
  },
  "cells": [
    {
      "cell_type": "code",
      "execution_count": null,
      "metadata": {
        "id": "bOj9yl5uQqPV"
      },
      "outputs": [],
      "source": [
        "import cv2\n",
        "import time\n",
        "import matplotlib.pyplot as plt\n",
        "\n",
        "# Load the pre-trained cascade classifier for plastic bottles\n",
        "bottle_cascade = cv2.CascadeClassifier(\n",
        "    r\"C:\\Users\\gummi\\Desktop\\temp\\classifier\\cascade.xml\")\n",
        "\n",
        "img = cv2.imread(r\"C:\\Users\\gummi\\Desktop\\temp\\p\\000004.jpg\")\n",
        "resized = cv2.resize(img, (450, 250))\n",
        "gray = cv2.cvtColor(resized, cv2.COLOR_BGR2GRAY)\n",
        "\n",
        "#Plastic bottles detection.\n",
        "bottles = bottle_cascade.detectMultiScale(\n",
        "    gray, scaleFactor=1.2, minNeighbors=5, minSize=(90, 90))\n",
        "\n",
        "if len(bottles) > 0:\n",
        "    for (x, y, w, h) in bottles:\n",
        "        resized = cv2.rectangle(resized, (x, y), (x+w, y+h), (0, 255, 0), 2)\n",
        "        label = 'Plastic Bottle'\n",
        "        cv2.putText(resized, label, (x, y-10),\n",
        "                    cv2.FONT_HERSHEY_COMPLEX_SMALL, 0.5, (55, 20, 10), 1)\n",
        "        print(f'Detected: {label}')\n",
        "\n",
        "    # Displaying recommendation message in the terminal\n",
        "    print(\"Plastic bottles are harmful, try a reusable one from the following brands:\")\n",
        "\n",
        "    brands_info = [\n",
        "        (\"Brand A\", \"Rs 110\"),\n",
        "        (\"Brand B\", \"Rs 115\"),\n",
        "        (\"Brand C\", \"Rs 210\"),    ]\n",
        "\n",
        "    # Display brands and costs in the terminal\n",
        "    for brand, cost in brands_info:\n",
        "        print(f\"{brand}: {cost}\")\n",
        "\n",
        "    # Display the detected image\n",
        "    cv2.imshow('Detected Image', resized)\n",
        "    cv2.waitKey(0)\n",
        "\n",
        "    # Create subplot with three images of eco bottles\n",
        "\n",
        "    plt.figure(figsize=(5, 3))\n",
        "    for i, (brand, cost) in enumerate(brands_info):\n",
        "        # Load eco bottle image (replace with actual paths)\n",
        "        eco_bottle_img = cv2.imread(\n",
        "            f\"C:\\\\Users\\\\gummi\\\\Documents\\\\Computer Science\\\\Python\\\\Projects\\\\DAISE\\\\images\\\\alternative_bottle\\\\download ({i+1}).jpg\")\n",
        "\n", #THIS GETS REPLACED WITH THE PATH OF THE STORED SCANNED IMAGE

        "        # Display eco bottle image in the subplot\n",
        "        plt.subplot(1, 3, i+1)\n",
        "        plt.imshow(cv2.cvtColor(eco_bottle_img, cv2.COLOR_BGR2RGB))\n",
        "        plt.title(f\"{brand}\\n{cost}\", fontsize=10)\n",
        "        plt.axis('off')\n",
        "    plt.show()\n",
        "\n",
        "\n",
        "    # Close the window after displaying the subplot\n",
        "    cv2.destroyAllWindows()\n",
        "\n",
        "else:\n",
        "    # Display \"Not Detected\" label\n",
        "    cv2.putText(resized, \"Not Detected\", (6, 8),\n",
        "                cv2.FONT_HERSHEY_COMPLEX_SMALL, 0.5, (55, 20, 10), 1)\n",
        "\n",
        "    # Set the window name for the detected bottles\n",
        "    cv2.namedWindow('Detected Bottles', cv2.WINDOW_NORMAL)\n",
        "\n",
        "    # Resize the window for the detected bottles\n",
        "    cv2.resizeWindow('Detected Bottles', 800, 400)  # Adjust the size as needed\n",
        "\n",
        "    # Display the result of detected bottles\n",
        "    cv2.imshow('Detected Bottles', resized)\n",
        "    cv2.waitKey(0)\n",
        "    cv2.destroyAllWindows()\n"
      ]
    }
  ]
}
